{
 "cells": [
  {
   "cell_type": "markdown",
   "id": "provincial-yesterday",
   "metadata": {},
   "source": [
    "Anotações importantes\n",
    "\n",
    "yr_renovated = 0 irei considerar como casas que nunca foram reformadas. \n",
    "Assumirei que o número 33 (valor único) é um erro de digitação, pois não faz sentido devido ao tamanho da casa. Transformarei esse valor em 3. \n"
   ]
  },
  {
   "cell_type": "markdown",
   "id": "automatic-intensity",
   "metadata": {
    "heading_collapsed": true
   },
   "source": [
    "# 0.0 Importar pacotes"
   ]
  },
  {
   "cell_type": "code",
   "execution_count": 1,
   "id": "familiar-shanghai",
   "metadata": {
    "hidden": true
   },
   "outputs": [
    {
     "name": "stderr",
     "output_type": "stream",
     "text": [
      "/home/user/.pyenv/versions/3.8.0/lib/python3.8/site-packages/pandas/compat/__init__.py:97: UserWarning: Could not import the lzma module. Your installed Python is incomplete. Attempting to use lzma compression will result in a RuntimeError.\n",
      "  warnings.warn(msg)\n"
     ]
    }
   ],
   "source": [
    "import pandas as pd\n",
    "\n",
    "import numpy as np\n",
    "\n"
   ]
  },
  {
   "cell_type": "markdown",
   "id": "romantic-begin",
   "metadata": {},
   "source": [
    "# 1.0 Dados"
   ]
  },
  {
   "cell_type": "markdown",
   "id": "usual-smoke",
   "metadata": {},
   "source": [
    "## 1.1 Importando dataset"
   ]
  },
  {
   "cell_type": "code",
   "execution_count": 2,
   "id": "centered-permit",
   "metadata": {},
   "outputs": [],
   "source": [
    "df = pd.read_csv('dataset/kc_house_data.csv')"
   ]
  },
  {
   "cell_type": "markdown",
   "id": "appointed-respect",
   "metadata": {},
   "source": [
    "## 1.2 Dimensão dos dados"
   ]
  },
  {
   "cell_type": "code",
   "execution_count": 21,
   "id": "canadian-partnership",
   "metadata": {},
   "outputs": [
    {
     "name": "stdout",
     "output_type": "stream",
     "text": [
      "Número de linha: 21613\n",
      "Número de colunas: 21\n"
     ]
    }
   ],
   "source": [
    "print('Número de linha:', df.shape[0])\n",
    "\n",
    "print('Número de colunas:', df.shape[1])"
   ]
  },
  {
   "cell_type": "markdown",
   "id": "general-gilbert",
   "metadata": {},
   "source": [
    "## 1.3 Tipos de variáveis"
   ]
  },
  {
   "cell_type": "code",
   "execution_count": 22,
   "id": "superb-trick",
   "metadata": {},
   "outputs": [
    {
     "data": {
      "text/plain": [
       "id                        int64\n",
       "date             datetime64[ns]\n",
       "price                   float64\n",
       "bedrooms                  int64\n",
       "bathrooms               float64\n",
       "sqft_living               int64\n",
       "sqft_lot                  int64\n",
       "floors                  float64\n",
       "waterfront                int64\n",
       "view                      int64\n",
       "condition                 int64\n",
       "grade                     int64\n",
       "sqft_above                int64\n",
       "sqft_basement             int64\n",
       "yr_built                  int64\n",
       "yr_renovated              int64\n",
       "zipcode                   int64\n",
       "lat                     float64\n",
       "long                    float64\n",
       "sqft_living15             int64\n",
       "sqft_lot15                int64\n",
       "dtype: object"
      ]
     },
     "execution_count": 22,
     "metadata": {},
     "output_type": "execute_result"
    }
   ],
   "source": [
    "df.dtypes"
   ]
  },
  {
   "cell_type": "markdown",
   "id": "certain-booth",
   "metadata": {},
   "source": [
    "## 1.4 Alterando os tipos de variáveis"
   ]
  },
  {
   "cell_type": "code",
   "execution_count": 4,
   "id": "dedicated-subsection",
   "metadata": {},
   "outputs": [],
   "source": [
    "\n",
    "df['date'] = pd.to_datetime(df['date']) #transformando para o formato certo\n",
    "\n"
   ]
  },
  {
   "cell_type": "markdown",
   "id": "equivalent-cooling",
   "metadata": {},
   "source": [
    "## 1.5 Limpeza de dados"
   ]
  },
  {
   "cell_type": "markdown",
   "id": "weird-private",
   "metadata": {},
   "source": [
    "### 1.5.1 Check NA"
   ]
  },
  {
   "cell_type": "code",
   "execution_count": 24,
   "id": "cloudy-dispatch",
   "metadata": {},
   "outputs": [
    {
     "data": {
      "text/plain": [
       "id               0\n",
       "date             0\n",
       "price            0\n",
       "bedrooms         0\n",
       "bathrooms        0\n",
       "sqft_living      0\n",
       "sqft_lot         0\n",
       "floors           0\n",
       "waterfront       0\n",
       "view             0\n",
       "condition        0\n",
       "grade            0\n",
       "sqft_above       0\n",
       "sqft_basement    0\n",
       "yr_built         0\n",
       "yr_renovated     0\n",
       "zipcode          0\n",
       "lat              0\n",
       "long             0\n",
       "sqft_living15    0\n",
       "sqft_lot15       0\n",
       "dtype: int64"
      ]
     },
     "execution_count": 24,
     "metadata": {},
     "output_type": "execute_result"
    }
   ],
   "source": [
    "df.isna().sum()"
   ]
  },
  {
   "cell_type": "markdown",
   "id": "included-height",
   "metadata": {},
   "source": [
    "### 1.5.2 Alterando valores errôneos "
   ]
  },
  {
   "cell_type": "code",
   "execution_count": 14,
   "id": "derived-california",
   "metadata": {},
   "outputs": [],
   "source": [
    "df.loc[(df['bedrooms'] == 33, 'bedrooms')] = 3"
   ]
  },
  {
   "cell_type": "code",
   "execution_count": null,
   "id": "boolean-charlotte",
   "metadata": {},
   "outputs": [],
   "source": []
  }
 ],
 "metadata": {
  "kernelspec": {
   "display_name": "Python 3",
   "language": "python",
   "name": "python3"
  },
  "language_info": {
   "codemirror_mode": {
    "name": "ipython",
    "version": 3
   },
   "file_extension": ".py",
   "mimetype": "text/x-python",
   "name": "python",
   "nbconvert_exporter": "python",
   "pygments_lexer": "ipython3",
   "version": "3.8.0"
  },
  "varInspector": {
   "cols": {
    "lenName": 16,
    "lenType": 16,
    "lenVar": 40
   },
   "kernels_config": {
    "python": {
     "delete_cmd_postfix": "",
     "delete_cmd_prefix": "del ",
     "library": "var_list.py",
     "varRefreshCmd": "print(var_dic_list())"
    },
    "r": {
     "delete_cmd_postfix": ") ",
     "delete_cmd_prefix": "rm(",
     "library": "var_list.r",
     "varRefreshCmd": "cat(var_dic_list()) "
    }
   },
   "types_to_exclude": [
    "module",
    "function",
    "builtin_function_or_method",
    "instance",
    "_Feature"
   ],
   "window_display": false
  }
 },
 "nbformat": 4,
 "nbformat_minor": 5
}
