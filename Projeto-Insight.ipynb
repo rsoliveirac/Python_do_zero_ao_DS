{
 "cells": [
  {
   "cell_type": "markdown",
   "id": "provincial-yesterday",
   "metadata": {},
   "source": [
    "# Anotações importantes\n",
    "\n",
    "yr_renovated = 0 irei considerar como casas que nunca foram reformadas. \n",
    "Assumirei que o número 33 (valor único) é um erro de digitação, pois não faz sentido devido ao tamanho da casa. Transformarei esse valor em 3. \n",
    "\n",
    "estatística descritiva foi utilizada para verificar possiveis valores errados e dar uma visão geral dos dados\n"
   ]
  },
  {
   "cell_type": "markdown",
   "id": "automatic-intensity",
   "metadata": {},
   "source": [
    "# 0.0 Importar pacotes"
   ]
  },
  {
   "cell_type": "code",
   "execution_count": 1,
   "id": "familiar-shanghai",
   "metadata": {},
   "outputs": [
    {
     "name": "stderr",
     "output_type": "stream",
     "text": [
      "/home/user/.pyenv/versions/3.8.0/lib/python3.8/site-packages/pandas/compat/__init__.py:97: UserWarning: Could not import the lzma module. Your installed Python is incomplete. Attempting to use lzma compression will result in a RuntimeError.\n",
      "  warnings.warn(msg)\n"
     ]
    }
   ],
   "source": [
    "import pandas as pd\n",
    "\n",
    "import numpy as np\n",
    "\n",
    "import plotly.express as px\n",
    "\n",
    "from matplotlib import pyplot as plt\n",
    "\n",
    "import seaborn as sns\n",
    "\n",
    "from matplotlib import gridspec\n",
    "\n",
    "import matplotlib.ticker as mtick\n",
    "\n",
    "from datetime import datetime\n",
    "\n",
    "import warnings\n"
   ]
  },
  {
   "cell_type": "markdown",
   "id": "clean-helicopter",
   "metadata": {},
   "source": [
    "## Funções Auxiliares"
   ]
  },
  {
   "cell_type": "code",
   "execution_count": 2,
   "id": "hundred-discipline",
   "metadata": {},
   "outputs": [],
   "source": [
    "pd.options.display.float_format = '{:.2f}'.format\n",
    "    \n",
    "\n",
    "plt.rcParams['figure.figsize'] = (11,7)\n",
    "\n",
    "warnings.filterwarnings('ignore')"
   ]
  },
  {
   "cell_type": "markdown",
   "id": "romantic-begin",
   "metadata": {},
   "source": [
    "# 1.0 Dados"
   ]
  },
  {
   "cell_type": "markdown",
   "id": "usual-smoke",
   "metadata": {},
   "source": [
    "## 1.1 Importando dataset"
   ]
  },
  {
   "cell_type": "code",
   "execution_count": 3,
   "id": "centered-permit",
   "metadata": {},
   "outputs": [],
   "source": [
    "df = pd.read_csv('dataset/kc_house_data.csv')"
   ]
  },
  {
   "cell_type": "markdown",
   "id": "appointed-respect",
   "metadata": {},
   "source": [
    "## 1.2 Dimensão dos dados"
   ]
  },
  {
   "cell_type": "code",
   "execution_count": 4,
   "id": "canadian-partnership",
   "metadata": {},
   "outputs": [
    {
     "name": "stdout",
     "output_type": "stream",
     "text": [
      "Número de linha: 21613\n",
      "Número de colunas: 21\n"
     ]
    }
   ],
   "source": [
    "print('Número de linha:', df.shape[0])\n",
    "\n",
    "print('Número de colunas:', df.shape[1])"
   ]
  },
  {
   "cell_type": "markdown",
   "id": "general-gilbert",
   "metadata": {},
   "source": [
    "## 1.3 Tipos de variáveis"
   ]
  },
  {
   "cell_type": "code",
   "execution_count": 5,
   "id": "superb-trick",
   "metadata": {},
   "outputs": [
    {
     "data": {
      "text/plain": [
       "id                 int64\n",
       "date              object\n",
       "price            float64\n",
       "bedrooms           int64\n",
       "bathrooms        float64\n",
       "sqft_living        int64\n",
       "sqft_lot           int64\n",
       "floors           float64\n",
       "waterfront         int64\n",
       "view               int64\n",
       "condition          int64\n",
       "grade              int64\n",
       "sqft_above         int64\n",
       "sqft_basement      int64\n",
       "yr_built           int64\n",
       "yr_renovated       int64\n",
       "zipcode            int64\n",
       "lat              float64\n",
       "long             float64\n",
       "sqft_living15      int64\n",
       "sqft_lot15         int64\n",
       "dtype: object"
      ]
     },
     "execution_count": 5,
     "metadata": {},
     "output_type": "execute_result"
    }
   ],
   "source": [
    "df.dtypes"
   ]
  },
  {
   "cell_type": "markdown",
   "id": "certain-booth",
   "metadata": {},
   "source": [
    "## 1.4 Alterando os tipos de variáveis"
   ]
  },
  {
   "cell_type": "code",
   "execution_count": 7,
   "id": "dedicated-subsection",
   "metadata": {},
   "outputs": [],
   "source": [
    "df['date'] = pd.to_datetime(df['date']) \n"
   ]
  },
  {
   "cell_type": "markdown",
   "id": "equivalent-cooling",
   "metadata": {},
   "source": [
    "## 1.5 Limpeza de dados"
   ]
  },
  {
   "cell_type": "markdown",
   "id": "sound-edition",
   "metadata": {
    "heading_collapsed": true
   },
   "source": [
    "### 1.5.1 Duplicatas"
   ]
  },
  {
   "cell_type": "code",
   "execution_count": 87,
   "id": "square-cloud",
   "metadata": {
    "hidden": true
   },
   "outputs": [
    {
     "data": {
      "text/html": [
       "<div>\n",
       "<style scoped>\n",
       "    .dataframe tbody tr th:only-of-type {\n",
       "        vertical-align: middle;\n",
       "    }\n",
       "\n",
       "    .dataframe tbody tr th {\n",
       "        vertical-align: top;\n",
       "    }\n",
       "\n",
       "    .dataframe thead th {\n",
       "        text-align: right;\n",
       "    }\n",
       "</style>\n",
       "<table border=\"1\" class=\"dataframe\">\n",
       "  <thead>\n",
       "    <tr style=\"text-align: right;\">\n",
       "      <th></th>\n",
       "      <th>id</th>\n",
       "      <th>date</th>\n",
       "      <th>price</th>\n",
       "      <th>bedrooms</th>\n",
       "      <th>bathrooms</th>\n",
       "      <th>sqft_living</th>\n",
       "      <th>sqft_lot</th>\n",
       "      <th>floors</th>\n",
       "      <th>waterfront</th>\n",
       "      <th>view</th>\n",
       "      <th>...</th>\n",
       "      <th>grade</th>\n",
       "      <th>sqft_above</th>\n",
       "      <th>sqft_basement</th>\n",
       "      <th>yr_built</th>\n",
       "      <th>yr_renovated</th>\n",
       "      <th>zipcode</th>\n",
       "      <th>lat</th>\n",
       "      <th>long</th>\n",
       "      <th>sqft_living15</th>\n",
       "      <th>sqft_lot15</th>\n",
       "    </tr>\n",
       "  </thead>\n",
       "  <tbody>\n",
       "    <tr>\n",
       "      <th>2497</th>\n",
       "      <td>1000102</td>\n",
       "      <td>2015-04-22</td>\n",
       "      <td>300000.00</td>\n",
       "      <td>6</td>\n",
       "      <td>3.00</td>\n",
       "      <td>2400</td>\n",
       "      <td>9373</td>\n",
       "      <td>2.00</td>\n",
       "      <td>0</td>\n",
       "      <td>0</td>\n",
       "      <td>...</td>\n",
       "      <td>7</td>\n",
       "      <td>2400</td>\n",
       "      <td>0</td>\n",
       "      <td>1991</td>\n",
       "      <td>0</td>\n",
       "      <td>98002</td>\n",
       "      <td>47.33</td>\n",
       "      <td>-122.21</td>\n",
       "      <td>2060</td>\n",
       "      <td>7316</td>\n",
       "    </tr>\n",
       "    <tr>\n",
       "      <th>2496</th>\n",
       "      <td>1000102</td>\n",
       "      <td>2014-09-16</td>\n",
       "      <td>280000.00</td>\n",
       "      <td>6</td>\n",
       "      <td>3.00</td>\n",
       "      <td>2400</td>\n",
       "      <td>9373</td>\n",
       "      <td>2.00</td>\n",
       "      <td>0</td>\n",
       "      <td>0</td>\n",
       "      <td>...</td>\n",
       "      <td>7</td>\n",
       "      <td>2400</td>\n",
       "      <td>0</td>\n",
       "      <td>1991</td>\n",
       "      <td>0</td>\n",
       "      <td>98002</td>\n",
       "      <td>47.33</td>\n",
       "      <td>-122.21</td>\n",
       "      <td>2060</td>\n",
       "      <td>7316</td>\n",
       "    </tr>\n",
       "    <tr>\n",
       "      <th>6735</th>\n",
       "      <td>1200019</td>\n",
       "      <td>2014-05-08</td>\n",
       "      <td>647500.00</td>\n",
       "      <td>4</td>\n",
       "      <td>1.75</td>\n",
       "      <td>2060</td>\n",
       "      <td>26036</td>\n",
       "      <td>1.00</td>\n",
       "      <td>0</td>\n",
       "      <td>0</td>\n",
       "      <td>...</td>\n",
       "      <td>8</td>\n",
       "      <td>1160</td>\n",
       "      <td>900</td>\n",
       "      <td>1947</td>\n",
       "      <td>0</td>\n",
       "      <td>98166</td>\n",
       "      <td>47.44</td>\n",
       "      <td>-122.35</td>\n",
       "      <td>2590</td>\n",
       "      <td>21891</td>\n",
       "    </tr>\n",
       "    <tr>\n",
       "      <th>8411</th>\n",
       "      <td>1200021</td>\n",
       "      <td>2014-08-11</td>\n",
       "      <td>400000.00</td>\n",
       "      <td>3</td>\n",
       "      <td>1.00</td>\n",
       "      <td>1460</td>\n",
       "      <td>43000</td>\n",
       "      <td>1.00</td>\n",
       "      <td>0</td>\n",
       "      <td>0</td>\n",
       "      <td>...</td>\n",
       "      <td>7</td>\n",
       "      <td>1460</td>\n",
       "      <td>0</td>\n",
       "      <td>1952</td>\n",
       "      <td>0</td>\n",
       "      <td>98166</td>\n",
       "      <td>47.44</td>\n",
       "      <td>-122.35</td>\n",
       "      <td>2250</td>\n",
       "      <td>20023</td>\n",
       "    </tr>\n",
       "    <tr>\n",
       "      <th>8809</th>\n",
       "      <td>2800031</td>\n",
       "      <td>2015-04-01</td>\n",
       "      <td>235000.00</td>\n",
       "      <td>3</td>\n",
       "      <td>1.00</td>\n",
       "      <td>1430</td>\n",
       "      <td>7599</td>\n",
       "      <td>1.50</td>\n",
       "      <td>0</td>\n",
       "      <td>0</td>\n",
       "      <td>...</td>\n",
       "      <td>6</td>\n",
       "      <td>1010</td>\n",
       "      <td>420</td>\n",
       "      <td>1930</td>\n",
       "      <td>0</td>\n",
       "      <td>98168</td>\n",
       "      <td>47.48</td>\n",
       "      <td>-122.27</td>\n",
       "      <td>1290</td>\n",
       "      <td>10320</td>\n",
       "    </tr>\n",
       "  </tbody>\n",
       "</table>\n",
       "<p>5 rows × 21 columns</p>\n",
       "</div>"
      ],
      "text/plain": [
       "           id       date     price  bedrooms  bathrooms  sqft_living  \\\n",
       "2497  1000102 2015-04-22 300000.00         6       3.00         2400   \n",
       "2496  1000102 2014-09-16 280000.00         6       3.00         2400   \n",
       "6735  1200019 2014-05-08 647500.00         4       1.75         2060   \n",
       "8411  1200021 2014-08-11 400000.00         3       1.00         1460   \n",
       "8809  2800031 2015-04-01 235000.00         3       1.00         1430   \n",
       "\n",
       "      sqft_lot  floors  waterfront  view  ...  grade  sqft_above  \\\n",
       "2497      9373    2.00           0     0  ...      7        2400   \n",
       "2496      9373    2.00           0     0  ...      7        2400   \n",
       "6735     26036    1.00           0     0  ...      8        1160   \n",
       "8411     43000    1.00           0     0  ...      7        1460   \n",
       "8809      7599    1.50           0     0  ...      6        1010   \n",
       "\n",
       "      sqft_basement  yr_built  yr_renovated  zipcode   lat    long  \\\n",
       "2497              0      1991             0    98002 47.33 -122.21   \n",
       "2496              0      1991             0    98002 47.33 -122.21   \n",
       "6735            900      1947             0    98166 47.44 -122.35   \n",
       "8411              0      1952             0    98166 47.44 -122.35   \n",
       "8809            420      1930             0    98168 47.48 -122.27   \n",
       "\n",
       "      sqft_living15  sqft_lot15  \n",
       "2497           2060        7316  \n",
       "2496           2060        7316  \n",
       "6735           2590       21891  \n",
       "8411           2250       20023  \n",
       "8809           1290       10320  \n",
       "\n",
       "[5 rows x 21 columns]"
      ]
     },
     "execution_count": 87,
     "metadata": {},
     "output_type": "execute_result"
    }
   ],
   "source": [
    "df.sort_values('id').head(5)"
   ]
  },
  {
   "cell_type": "code",
   "execution_count": 93,
   "id": "toxic-vertical",
   "metadata": {
    "hidden": true
   },
   "outputs": [
    {
     "data": {
      "text/html": [
       "<div>\n",
       "<style scoped>\n",
       "    .dataframe tbody tr th:only-of-type {\n",
       "        vertical-align: middle;\n",
       "    }\n",
       "\n",
       "    .dataframe tbody tr th {\n",
       "        vertical-align: top;\n",
       "    }\n",
       "\n",
       "    .dataframe thead th {\n",
       "        text-align: right;\n",
       "    }\n",
       "</style>\n",
       "<table border=\"1\" class=\"dataframe\">\n",
       "  <thead>\n",
       "    <tr style=\"text-align: right;\">\n",
       "      <th></th>\n",
       "      <th>id</th>\n",
       "      <th>date</th>\n",
       "      <th>price</th>\n",
       "      <th>bedrooms</th>\n",
       "      <th>bathrooms</th>\n",
       "      <th>sqft_living</th>\n",
       "      <th>sqft_lot</th>\n",
       "      <th>floors</th>\n",
       "      <th>waterfront</th>\n",
       "      <th>view</th>\n",
       "      <th>...</th>\n",
       "      <th>grade</th>\n",
       "      <th>sqft_above</th>\n",
       "      <th>sqft_basement</th>\n",
       "      <th>yr_built</th>\n",
       "      <th>yr_renovated</th>\n",
       "      <th>zipcode</th>\n",
       "      <th>lat</th>\n",
       "      <th>long</th>\n",
       "      <th>sqft_living15</th>\n",
       "      <th>sqft_lot15</th>\n",
       "    </tr>\n",
       "  </thead>\n",
       "  <tbody>\n",
       "    <tr>\n",
       "      <th>2497</th>\n",
       "      <td>1000102</td>\n",
       "      <td>2015-04-22</td>\n",
       "      <td>300000.00</td>\n",
       "      <td>6</td>\n",
       "      <td>3.00</td>\n",
       "      <td>2400</td>\n",
       "      <td>9373</td>\n",
       "      <td>2.00</td>\n",
       "      <td>0</td>\n",
       "      <td>0</td>\n",
       "      <td>...</td>\n",
       "      <td>7</td>\n",
       "      <td>2400</td>\n",
       "      <td>0</td>\n",
       "      <td>1991</td>\n",
       "      <td>0</td>\n",
       "      <td>98002</td>\n",
       "      <td>47.33</td>\n",
       "      <td>-122.21</td>\n",
       "      <td>2060</td>\n",
       "      <td>7316</td>\n",
       "    </tr>\n",
       "    <tr>\n",
       "      <th>6735</th>\n",
       "      <td>1200019</td>\n",
       "      <td>2014-05-08</td>\n",
       "      <td>647500.00</td>\n",
       "      <td>4</td>\n",
       "      <td>1.75</td>\n",
       "      <td>2060</td>\n",
       "      <td>26036</td>\n",
       "      <td>1.00</td>\n",
       "      <td>0</td>\n",
       "      <td>0</td>\n",
       "      <td>...</td>\n",
       "      <td>8</td>\n",
       "      <td>1160</td>\n",
       "      <td>900</td>\n",
       "      <td>1947</td>\n",
       "      <td>0</td>\n",
       "      <td>98166</td>\n",
       "      <td>47.44</td>\n",
       "      <td>-122.35</td>\n",
       "      <td>2590</td>\n",
       "      <td>21891</td>\n",
       "    </tr>\n",
       "    <tr>\n",
       "      <th>8411</th>\n",
       "      <td>1200021</td>\n",
       "      <td>2014-08-11</td>\n",
       "      <td>400000.00</td>\n",
       "      <td>3</td>\n",
       "      <td>1.00</td>\n",
       "      <td>1460</td>\n",
       "      <td>43000</td>\n",
       "      <td>1.00</td>\n",
       "      <td>0</td>\n",
       "      <td>0</td>\n",
       "      <td>...</td>\n",
       "      <td>7</td>\n",
       "      <td>1460</td>\n",
       "      <td>0</td>\n",
       "      <td>1952</td>\n",
       "      <td>0</td>\n",
       "      <td>98166</td>\n",
       "      <td>47.44</td>\n",
       "      <td>-122.35</td>\n",
       "      <td>2250</td>\n",
       "      <td>20023</td>\n",
       "    </tr>\n",
       "    <tr>\n",
       "      <th>8809</th>\n",
       "      <td>2800031</td>\n",
       "      <td>2015-04-01</td>\n",
       "      <td>235000.00</td>\n",
       "      <td>3</td>\n",
       "      <td>1.00</td>\n",
       "      <td>1430</td>\n",
       "      <td>7599</td>\n",
       "      <td>1.50</td>\n",
       "      <td>0</td>\n",
       "      <td>0</td>\n",
       "      <td>...</td>\n",
       "      <td>6</td>\n",
       "      <td>1010</td>\n",
       "      <td>420</td>\n",
       "      <td>1930</td>\n",
       "      <td>0</td>\n",
       "      <td>98168</td>\n",
       "      <td>47.48</td>\n",
       "      <td>-122.27</td>\n",
       "      <td>1290</td>\n",
       "      <td>10320</td>\n",
       "    </tr>\n",
       "    <tr>\n",
       "      <th>3557</th>\n",
       "      <td>3600057</td>\n",
       "      <td>2015-03-19</td>\n",
       "      <td>402500.00</td>\n",
       "      <td>4</td>\n",
       "      <td>2.00</td>\n",
       "      <td>1650</td>\n",
       "      <td>3504</td>\n",
       "      <td>1.00</td>\n",
       "      <td>0</td>\n",
       "      <td>0</td>\n",
       "      <td>...</td>\n",
       "      <td>7</td>\n",
       "      <td>760</td>\n",
       "      <td>890</td>\n",
       "      <td>1951</td>\n",
       "      <td>2013</td>\n",
       "      <td>98144</td>\n",
       "      <td>47.58</td>\n",
       "      <td>-122.29</td>\n",
       "      <td>1480</td>\n",
       "      <td>3504</td>\n",
       "    </tr>\n",
       "  </tbody>\n",
       "</table>\n",
       "<p>5 rows × 21 columns</p>\n",
       "</div>"
      ],
      "text/plain": [
       "           id       date     price  bedrooms  bathrooms  sqft_living  \\\n",
       "2497  1000102 2015-04-22 300000.00         6       3.00         2400   \n",
       "6735  1200019 2014-05-08 647500.00         4       1.75         2060   \n",
       "8411  1200021 2014-08-11 400000.00         3       1.00         1460   \n",
       "8809  2800031 2015-04-01 235000.00         3       1.00         1430   \n",
       "3557  3600057 2015-03-19 402500.00         4       2.00         1650   \n",
       "\n",
       "      sqft_lot  floors  waterfront  view  ...  grade  sqft_above  \\\n",
       "2497      9373    2.00           0     0  ...      7        2400   \n",
       "6735     26036    1.00           0     0  ...      8        1160   \n",
       "8411     43000    1.00           0     0  ...      7        1460   \n",
       "8809      7599    1.50           0     0  ...      6        1010   \n",
       "3557      3504    1.00           0     0  ...      7         760   \n",
       "\n",
       "      sqft_basement  yr_built  yr_renovated  zipcode   lat    long  \\\n",
       "2497              0      1991             0    98002 47.33 -122.21   \n",
       "6735            900      1947             0    98166 47.44 -122.35   \n",
       "8411              0      1952             0    98166 47.44 -122.35   \n",
       "8809            420      1930             0    98168 47.48 -122.27   \n",
       "3557            890      1951          2013    98144 47.58 -122.29   \n",
       "\n",
       "      sqft_living15  sqft_lot15  \n",
       "2497           2060        7316  \n",
       "6735           2590       21891  \n",
       "8411           2250       20023  \n",
       "8809           1290       10320  \n",
       "3557           1480        3504  \n",
       "\n",
       "[5 rows x 21 columns]"
      ]
     },
     "execution_count": 93,
     "metadata": {},
     "output_type": "execute_result"
    }
   ],
   "source": [
    "df = df.drop_duplicates(subset = ['id'], keep = 'last')\n",
    "\n",
    "df.sort_values('id').head(5)"
   ]
  },
  {
   "cell_type": "markdown",
   "id": "weird-private",
   "metadata": {
    "heading_collapsed": true
   },
   "source": [
    "### 1.5.1 Check NA"
   ]
  },
  {
   "cell_type": "code",
   "execution_count": 8,
   "id": "cloudy-dispatch",
   "metadata": {
    "hidden": true
   },
   "outputs": [
    {
     "data": {
      "text/plain": [
       "id               0\n",
       "date             0\n",
       "price            0\n",
       "bedrooms         0\n",
       "bathrooms        0\n",
       "sqft_living      0\n",
       "sqft_lot         0\n",
       "floors           0\n",
       "waterfront       0\n",
       "view             0\n",
       "condition        0\n",
       "grade            0\n",
       "sqft_above       0\n",
       "sqft_basement    0\n",
       "yr_built         0\n",
       "yr_renovated     0\n",
       "zipcode          0\n",
       "lat              0\n",
       "long             0\n",
       "sqft_living15    0\n",
       "sqft_lot15       0\n",
       "dtype: int64"
      ]
     },
     "execution_count": 8,
     "metadata": {},
     "output_type": "execute_result"
    }
   ],
   "source": [
    "df.isna().sum()"
   ]
  },
  {
   "cell_type": "markdown",
   "id": "included-height",
   "metadata": {
    "heading_collapsed": true
   },
   "source": [
    "### 1.5.2 Estatística descritiva"
   ]
  },
  {
   "cell_type": "code",
   "execution_count": 9,
   "id": "functional-cleaners",
   "metadata": {
    "hidden": true
   },
   "outputs": [],
   "source": [
    "df = df.copy()"
   ]
  },
  {
   "cell_type": "code",
   "execution_count": 10,
   "id": "demographic-encoding",
   "metadata": {
    "hidden": true
   },
   "outputs": [],
   "source": [
    "#Incluindo somente variáveis numéricas\n",
    "atri_num = df1.select_dtypes(include = ['int64', 'float64'])\n",
    "\n",
    "#deletando a coluna 'ID'\n",
    "atri_num = atri_num.iloc[:, 1: ]\n"
   ]
  },
  {
   "cell_type": "code",
   "execution_count": 53,
   "id": "promotional-mozambique",
   "metadata": {
    "hidden": true,
    "scrolled": false
   },
   "outputs": [
    {
     "name": "stdout",
     "output_type": "stream",
     "text": [
      "        atributos     media   mediana       std      min        max\n",
      "0           price 540088.14 450000.00 367118.70 75000.00 7700000.00\n",
      "1        bedrooms      3.37      3.00      0.93     0.00      33.00\n",
      "2       bathrooms      2.11      2.25      0.77     0.00       8.00\n",
      "3     sqft_living   2079.90   1910.00    918.42   290.00   13540.00\n",
      "4        sqft_lot  15106.97   7618.00  41419.55   520.00 1651359.00\n",
      "5          floors      1.49      1.50      0.54     1.00       3.50\n",
      "6      waterfront      0.01      0.00      0.09     0.00       1.00\n",
      "7            view      0.23      0.00      0.77     0.00       4.00\n",
      "8       condition      3.41      3.00      0.65     1.00       5.00\n",
      "9           grade      7.66      7.00      1.18     1.00      13.00\n",
      "10     sqft_above   1788.39   1560.00    828.07   290.00    9410.00\n",
      "11  sqft_basement    291.51      0.00    442.56     0.00    4820.00\n",
      "12       yr_built   1971.01   1975.00     29.37  1900.00    2015.00\n",
      "13   yr_renovated     84.40      0.00    401.67     0.00    2015.00\n",
      "14        zipcode  98077.94  98065.00     53.50 98001.00   98199.00\n",
      "15            lat     47.56     47.57      0.14    47.16      47.78\n",
      "16           long   -122.21   -122.23      0.14  -122.52    -121.31\n",
      "17  sqft_living15   1986.55   1840.00    685.38   399.00    6210.00\n",
      "18     sqft_lot15  12768.46   7620.00  27303.55   651.00  871200.00\n"
     ]
    },
    {
     "data": {
      "image/png": "[encoded data removed]",
      "text/plain": [
       "<Figure size 792x504 with 6 Axes>"
      ]
     },
     "metadata": {
      "needs_background": "light"
     },
     "output_type": "display_data"
    }
   ],
   "source": [
    "#análise descritiva\n",
    "#medidas de tendencia central\n",
    "df_mean =  pd.DataFrame(atri_num.apply(np.mean)).T\n",
    "df_median = pd.DataFrame(atri_num.apply(np.median)).T\n",
    "\n",
    "#medidas de dispersão \n",
    "df_std = pd.DataFrame(atri_num.apply(np.std)).T\n",
    "df_min = pd.DataFrame(atri_num.apply(np.min)).T\n",
    "df_max = pd.DataFrame(atri_num.apply(np.max)).T\n",
    "\n",
    "\n",
    "#concatenando\n",
    "est = pd.concat( [df_mean, df_median,  df_std, df_min, df_max ] ).T.reset_index()\n",
    "\n",
    "\n",
    "\n",
    "#alterando o nome das colunas\n",
    "est.columns = [ 'atributos','media', 'mediana', 'std', 'min', 'max']\n",
    "print(est)\n",
    "est.hist();\n"
   ]
  },
  {
   "cell_type": "code",
   "execution_count": 94,
   "id": "derived-california",
   "metadata": {
    "hidden": true
   },
   "outputs": [
    {
     "data": {
      "text/plain": [
       "array([ 3,  2,  4,  5,  1,  6,  7,  0,  8,  9, 11, 10])"
      ]
     },
     "execution_count": 94,
     "metadata": {},
     "output_type": "execute_result"
    }
   ],
   "source": [
    "#substituindo o valor de 33 na coluna bedrooms por 3\n",
    "linha = df[df['bedrooms'] == 33]\n",
    "\n",
    "df = df.drop(15870)\n",
    "\n",
    "df['bedrooms'].unique()"
   ]
  },
  {
   "cell_type": "markdown",
   "id": "referenced-volleyball",
   "metadata": {},
   "source": [
    "# 2.0 Exploração de dados"
   ]
  },
  {
   "cell_type": "markdown",
   "id": "accepted-brush",
   "metadata": {},
   "source": [
    "## 2.1 Insights"
   ]
  },
  {
   "cell_type": "code",
   "execution_count": 97,
   "id": "dying-plate",
   "metadata": {},
   "outputs": [],
   "source": [
    "df = df.copy()"
   ]
  },
  {
   "cell_type": "code",
   "execution_count": 98,
   "id": "incorporated-richmond",
   "metadata": {},
   "outputs": [
    {
     "data": {
      "text/plain": [
       "id                        int64\n",
       "date             datetime64[ns]\n",
       "price                   float64\n",
       "bedrooms                  int64\n",
       "bathrooms               float64\n",
       "sqft_living               int64\n",
       "sqft_lot                  int64\n",
       "floors                  float64\n",
       "waterfront                int64\n",
       "view                      int64\n",
       "condition                 int64\n",
       "grade                     int64\n",
       "sqft_above                int64\n",
       "sqft_basement             int64\n",
       "yr_built                  int64\n",
       "yr_renovated              int64\n",
       "zipcode                   int64\n",
       "lat                     float64\n",
       "long                    float64\n",
       "sqft_living15             int64\n",
       "sqft_lot15                int64\n",
       "dtype: object"
      ]
     },
     "execution_count": 98,
     "metadata": {},
     "output_type": "execute_result"
    }
   ],
   "source": [
    "df.dtypes"
   ]
  },
  {
   "cell_type": "markdown",
   "id": "northern-essay",
   "metadata": {},
   "source": [
    "### **H1:**   Imóveis com vista para a água são em média 30% mais caros"
   ]
  },
  {
   "cell_type": "code",
   "execution_count": 99,
   "id": "unlimited-short",
   "metadata": {},
   "outputs": [
    {
     "data": {
      "image/png": "[encoded data removed]",
      "text/plain": [
       "<Figure size 792x504 with 1 Axes>"
      ]
     },
     "metadata": {
      "needs_background": "light"
     },
     "output_type": "display_data"
    }
   ],
   "source": [
    "h1 = df[['price', 'waterfront']].groupby('waterfront').mean().reset_index()\n",
    "\n",
    "h1['waterfront'] = h1['waterfront'].astype(str)\n",
    "\n",
    "sns.barplot(h1['waterfront'], h1['price']);\n",
    "\n",
    "\n",
    "\n"
   ]
  },
  {
   "cell_type": "markdown",
   "id": "shaped-satellite",
   "metadata": {
    "heading_collapsed": true
   },
   "source": [
    "### H2: Imóveis com data de construção menor que 1955 são em média 50% mais baratos.\n"
   ]
  },
  {
   "cell_type": "code",
   "execution_count": null,
   "id": "widespread-progress",
   "metadata": {
    "hidden": true
   },
   "outputs": [],
   "source": [
    "df1 = df.copy()\n",
    "\n",
    "df1['construcao'] = df1['yr_built'].apply(lambda x: '> 1955' if x > 1955\n",
    "                                                               else '< 1955')\n",
    "\n",
    "h2 = df[['construcao', 'price']].groupby('construcao').mean().reset_index()\n",
    "\n",
    "sns.barplot(yr['construcao'], yr['price']);"
   ]
  },
  {
   "cell_type": "markdown",
   "id": "sound-assets",
   "metadata": {
    "heading_collapsed": true
   },
   "source": [
    "### H3: Imóveis sem porão possuem área total (sqrt_lot) são 40% maiores do que imóveis com \tporões.\n"
   ]
  },
  {
   "cell_type": "code",
   "execution_count": null,
   "id": "nonprofit-customs",
   "metadata": {
    "hidden": true
   },
   "outputs": [],
   "source": [
    "df['porao'] = df['sqft_basement'].apply(lambda x: 'nao' if x == 0\n",
    "                                                  else 'sim')\n",
    "\n",
    "\n",
    "h3 = df[['porao', 'sqft_lot']].groupby('porao').sum().reset_index()\n",
    "sns.barplot(h3['porao'], h3['sqft_lot']);"
   ]
  },
  {
   "cell_type": "markdown",
   "id": "champion-negotiation",
   "metadata": {
    "heading_collapsed": true
   },
   "source": [
    "### H4: O crescimento do preço dos imóveis ano após ano (YoY) é de 10%\n"
   ]
  },
  {
   "cell_type": "code",
   "execution_count": null,
   "id": "current-transition",
   "metadata": {
    "hidden": true
   },
   "outputs": [],
   "source": [
    "df['ano'] = df['date'].dt.year\n",
    "\n",
    "\n",
    "h4 = df[['price', 'ano']].groupby('ano').sum().reset_index()\n",
    "\n",
    "h4['ano'] = h4['ano'].astype(str)\n",
    "\n",
    "sns.barplot(h4['ano'], h4['price']);"
   ]
  },
  {
   "cell_type": "markdown",
   "id": "induced-partition",
   "metadata": {
    "heading_collapsed": true
   },
   "source": [
    "### H4.1: O crescimento do preço dos imóveis MoM é de 10%"
   ]
  },
  {
   "cell_type": "code",
   "execution_count": null,
   "id": "weighted-provision",
   "metadata": {
    "hidden": true
   },
   "outputs": [],
   "source": [
    "df['mes'] = df['date'].dt.month\n",
    "\n",
    "h41 =  df[['mes', 'price']].groupby('mes').sum().reset_index()\n",
    "#plt.bar(h41['mes'], h41['price'])\n",
    "\n",
    "\n",
    "sns.barplot(h41['mes'], h41['price']);\n"
   ]
  },
  {
   "cell_type": "markdown",
   "id": "shaped-retail",
   "metadata": {
    "heading_collapsed": true
   },
   "source": [
    "###  H5: Imóveis com 3 banheiros tem um crescimento mês após mês (MoM) de 15%.\n"
   ]
  },
  {
   "cell_type": "code",
   "execution_count": null,
   "id": "accomplished-excellence",
   "metadata": {
    "hidden": true
   },
   "outputs": [],
   "source": [
    "#df['mes'] = df['date'].dt.month\n",
    "\n",
    "h5 = df[(df['bathrooms'] == 3)]\n",
    "\n",
    "h5 = h5[['mes', 'price']].groupby('mes').sum().reset_index()\n",
    "\n",
    "\n",
    "\n",
    "sns.barplot(x = h5['mes'], y = h5['price']);\n",
    "\n"
   ]
  },
  {
   "cell_type": "markdown",
   "id": "occasional-temple",
   "metadata": {
    "heading_collapsed": true
   },
   "source": [
    "### H6: Imóveis que nunca foram reformadas (yr_renovated == 0) são em média 20% mais baratos. \n"
   ]
  },
  {
   "cell_type": "code",
   "execution_count": null,
   "id": "statistical-supervision",
   "metadata": {
    "hidden": true
   },
   "outputs": [],
   "source": [
    "df['renovacao'] = df['yr_renovated'].apply(lambda x: 'sim' if x > 0 else\n",
    "                                                     'nao'   )\n",
    "\n",
    "h6 = df[['price', 'renovacao']].groupby('renovacao').mean().reset_index()\n",
    "\n",
    "sns.barplot(h6['renovacao'], h6['price']);"
   ]
  },
  {
   "cell_type": "markdown",
   "id": "precious-evans",
   "metadata": {
    "heading_collapsed": true
   },
   "source": [
    "### H7: Imóveis em más condições mas com boa vista (view) são 10% mais caros.\n"
   ]
  },
  {
   "cell_type": "code",
   "execution_count": 100,
   "id": "proof-creek",
   "metadata": {
    "hidden": true
   },
   "outputs": [
    {
     "data": {
      "image/png": "[encoded data removed]",
      "text/plain": [
       "<Figure size 792x504 with 1 Axes>"
      ]
     },
     "metadata": {
      "needs_background": "light"
     },
     "output_type": "display_data"
    }
   ],
   "source": [
    "h71 = df[df['condition'] == 1]\n",
    "h7 = df[['price', 'view']].groupby('view').sum().reset_index()\n",
    "\n",
    "sns.barplot(h7['view'], h7['price']);\n"
   ]
  },
  {
   "cell_type": "markdown",
   "id": "exempt-vulnerability",
   "metadata": {
    "heading_collapsed": true
   },
   "source": [
    "### H8: Imóveis antigos e não renovados são 40% mais baratos. \n"
   ]
  },
  {
   "cell_type": "code",
   "execution_count": 122,
   "id": "marked-mississippi",
   "metadata": {
    "hidden": true
   },
   "outputs": [
    {
     "data": {
      "text/plain": [
       "<AxesSubplot:xlabel='contrucao', ylabel='price'>"
      ]
     },
     "execution_count": 122,
     "metadata": {},
     "output_type": "execute_result"
    },
    {
     "data": {
      "image/png": "[encoded data removed]",
      "text/plain": [
       "<Figure size 792x504 with 1 Axes>"
      ]
     },
     "metadata": {
      "needs_background": "light"
     },
     "output_type": "display_data"
    }
   ],
   "source": [
    "#1. cria coluna renovado ou nao renovado\n",
    "#2. selecionar imoveis não renovados\n",
    "#3. agrupar os imoveis não renovados por ano\n",
    "#4. verificar se os imoveis com datas mais antigas são mais baratos\n",
    "\n",
    "df['renovacao'] =  df['yr_renovated'].apply(lambda  x: 'sim' if x > 0 else\n",
    "                                                        'nao')\n",
    "\n",
    "df['contrucao'] = df['yr_built'].apply(lambda x: 'antigo' if (x < 1951) else\n",
    "                                               'atual')\n",
    "\n",
    "\n",
    "h8 = df[df['renovacao'] == 1]\n",
    "\n",
    "h8 = df[['contrucao', 'price']].groupby('contrucao').sum().reset_index()\n",
    "\n",
    "\n",
    "sns.barplot(x ='contrucao', y = 'price', data = h8 )"
   ]
  },
  {
   "cell_type": "markdown",
   "id": "private-oxygen",
   "metadata": {},
   "source": [
    "### H9: Imóveis com mais banheiros são em média 5% mais caros.\n"
   ]
  },
  {
   "cell_type": "code",
   "execution_count": 134,
   "id": "noble-anchor",
   "metadata": {},
   "outputs": [
    {
     "data": {
      "image/png": "[encoded data removed]",
      "text/plain": [
       "<Figure size 792x504 with 1 Axes>"
      ]
     },
     "metadata": {
      "needs_background": "light"
     },
     "output_type": "display_data"
    }
   ],
   "source": [
    "#1. agrupar imoveis por quantidade de banheiros\n",
    "#2. fazer gráficos com o preço\n",
    "\n",
    "df['banheiro'] =  df['bathrooms'].apply(lambda x: '0-3' if (x > 0 ) & (x < 3) else\n",
    "                                                   '3-5' if (x > 3) & (x < 5) else\n",
    "                                                   '5-8')\n",
    "\n",
    "h9 = df[['banheiro', 'price']].groupby('banheiro').mean().reset_index()\n",
    "\n",
    "sns.barplot(x = 'banheiro', y = 'price', data = h9);"
   ]
  },
  {
   "cell_type": "markdown",
   "id": "crazy-louisiana",
   "metadata": {},
   "source": [
    "### H10: Imóveis renovados recentemente são 35% mais caros."
   ]
  },
  {
   "cell_type": "code",
   "execution_count": 136,
   "id": "direct-lender",
   "metadata": {},
   "outputs": [
    {
     "data": {
      "image/png": "[encoded data removed]",
      "text/plain": [
       "<Figure size 792x504 with 1 Axes>"
      ]
     },
     "metadata": {
      "needs_background": "light"
     },
     "output_type": "display_data"
    }
   ],
   "source": [
    "#selecionar imoveis renovados mais recentes\n",
    "# agrupar com o preço\n",
    "\n",
    "df['contrucao'] = df['yr_built'].apply(lambda x: 'antigo' if (x < 1951) else\n",
    "                                               'atual')\n",
    "\n",
    "h10 = df[['contrucao', 'price']].groupby('contrucao').mean().reset_index()\n",
    "\n",
    "sns.barplot(x = 'contrucao', y = 'price', data = h10);"
   ]
  }
 ],
 "metadata": {
  "kernelspec": {
   "display_name": "Python 3",
   "language": "python",
   "name": "python3"
  },
  "language_info": {
   "codemirror_mode": {
    "name": "ipython",
    "version": 3
   },
   "file_extension": ".py",
   "mimetype": "text/x-python",
   "name": "python",
   "nbconvert_exporter": "python",
   "pygments_lexer": "ipython3",
   "version": "3.8.0"
  },
  "varInspector": {
   "cols": {
    "lenName": 16,
    "lenType": 16,
    "lenVar": 40
   },
   "kernels_config": {
    "python": {
     "delete_cmd_postfix": "",
     "delete_cmd_prefix": "del ",
     "library": "var_list.py",
     "varRefreshCmd": "print(var_dic_list())"
    },
    "r": {
     "delete_cmd_postfix": ") ",
     "delete_cmd_prefix": "rm(",
     "library": "var_list.r",
     "varRefreshCmd": "cat(var_dic_list()) "
    }
   },
   "types_to_exclude": [
    "module",
    "function",
    "builtin_function_or_method",
    "instance",
    "_Feature"
   ],
   "window_display": false
  }
 },
 "nbformat": 4,
 "nbformat_minor": 5
}
