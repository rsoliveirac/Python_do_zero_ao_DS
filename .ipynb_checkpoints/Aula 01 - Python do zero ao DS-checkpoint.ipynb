{
 "cells": [
  {
   "cell_type": "markdown",
   "id": "frank-announcement",
   "metadata": {},
   "source": [
    "# Importando pacotes"
   ]
  },
  {
   "cell_type": "code",
   "execution_count": 1,
   "id": "distinct-coach",
   "metadata": {
    "ExecuteTime": {
     "end_time": "2021-01-28T19:05:58.346437Z",
     "start_time": "2021-01-28T19:05:55.696293Z"
    }
   },
   "outputs": [],
   "source": [
    "import pandas as pd\n",
    "\n",
    "import plotly.express as px\n",
    "\n",
    "from matplotlib import pyplot as plt\n",
    "\n",
    "from matplotlib import gridspec\n"
   ]
  },
  {
   "cell_type": "markdown",
   "id": "incomplete-basic",
   "metadata": {
    "ExecuteTime": {
     "end_time": "2021-01-21T23:46:10.539035Z",
     "start_time": "2021-01-21T23:46:10.536134Z"
    },
    "heading_collapsed": true
   },
   "source": [
    "##  Funções auxiliares\n",
    "\n"
   ]
  },
  {
   "cell_type": "code",
   "execution_count": null,
   "id": "literary-fellow",
   "metadata": {
    "ExecuteTime": {
     "end_time": "2021-01-26T00:23:59.346723Z",
     "start_time": "2021-01-26T00:23:59.339499Z"
    },
    "hidden": true
   },
   "outputs": [],
   "source": [
    "pd.set_option('display.float_format', '{:.2f}'.format) #tirar da notação científica"
   ]
  },
  {
   "cell_type": "markdown",
   "id": "expressed-measurement",
   "metadata": {},
   "source": [
    "# Importando Data Set"
   ]
  },
  {
   "cell_type": "code",
   "execution_count": 2,
   "id": "meaning-sphere",
   "metadata": {
    "ExecuteTime": {
     "end_time": "2021-01-28T19:05:59.312830Z",
     "start_time": "2021-01-28T19:05:59.029349Z"
    }
   },
   "outputs": [],
   "source": [
    "df = pd.read_csv('dataset/kc_house_data.csv')"
   ]
  },
  {
   "cell_type": "markdown",
   "id": "joint-oxford",
   "metadata": {},
   "source": [
    "# Perguntas de negócio"
   ]
  },
  {
   "cell_type": "markdown",
   "id": "unnecessary-royal",
   "metadata": {
    "heading_collapsed": true
   },
   "source": [
    "## 1. Quantas casas estão disponíveis para compra?\n",
    "\n"
   ]
  },
  {
   "cell_type": "code",
   "execution_count": 10,
   "id": "seventh-corps",
   "metadata": {
    "ExecuteTime": {
     "end_time": "2021-01-28T19:08:38.193169Z",
     "start_time": "2021-01-28T19:08:38.181419Z"
    },
    "hidden": true
   },
   "outputs": [
    {
     "data": {
      "text/plain": [
       "(21613, 21)"
      ]
     },
     "execution_count": 10,
     "metadata": {},
     "output_type": "execute_result"
    }
   ],
   "source": [
    "df.shape\n",
    "\n",
    "# Ao todo são 21613 casas disponíveis para compra"
   ]
  },
  {
   "cell_type": "markdown",
   "id": "confirmed-warner",
   "metadata": {
    "heading_collapsed": true
   },
   "source": [
    "## 2. Quantos atributos as casas possuem?\n",
    "\n"
   ]
  },
  {
   "cell_type": "code",
   "execution_count": 11,
   "id": "anonymous-protocol",
   "metadata": {
    "ExecuteTime": {
     "end_time": "2021-01-28T19:09:29.209640Z",
     "start_time": "2021-01-28T19:09:29.204297Z"
    },
    "hidden": true
   },
   "outputs": [
    {
     "data": {
      "text/plain": [
       "(21613, 21)"
      ]
     },
     "execution_count": 11,
     "metadata": {},
     "output_type": "execute_result"
    }
   ],
   "source": [
    "df.shape\n",
    "\n",
    "# Ao todo são 21 atributos (21 colunas)"
   ]
  },
  {
   "cell_type": "markdown",
   "id": "corrected-lover",
   "metadata": {
    "heading_collapsed": true
   },
   "source": [
    "## 3. Quais são os atributos das casas?\n",
    "\n"
   ]
  },
  {
   "cell_type": "code",
   "execution_count": 28,
   "id": "continental-house",
   "metadata": {
    "ExecuteTime": {
     "end_time": "2021-01-28T19:33:48.930834Z",
     "start_time": "2021-01-28T19:33:48.926911Z"
    },
    "hidden": true
   },
   "outputs": [
    {
     "data": {
      "text/plain": [
       "['id',\n",
       " 'date',\n",
       " 'price',\n",
       " 'bedrooms',\n",
       " 'bathrooms',\n",
       " 'sqft_living',\n",
       " 'sqft_lot',\n",
       " 'floors',\n",
       " 'waterfront',\n",
       " 'view',\n",
       " 'condition',\n",
       " 'grade',\n",
       " 'sqft_above',\n",
       " 'sqft_basement',\n",
       " 'yr_built',\n",
       " 'yr_renovated',\n",
       " 'zipcode',\n",
       " 'lat',\n",
       " 'long',\n",
       " 'sqft_living15',\n",
       " 'sqft_lot15']"
      ]
     },
     "execution_count": 28,
     "metadata": {},
     "output_type": "execute_result"
    }
   ],
   "source": [
    "a = df.columns\n",
    "\n",
    "a.tolist()\n",
    "\n",
    "# R: 'id',#  'date',#  'price',#  'bedrooms',#  'bathrooms',#  'sqft_living',#  'sqft_lot',#  'floors',\n",
    "#  'waterfront',#  'view',#  'condition',#  'grade',#  'sqft_above',#  'sqft_basement',#  'yr_built',#  'yr_renovated',\n",
    "#  'zipcode',#  'lat',#  'long',#  'sqft_living15',#  'sqft_lot15'"
   ]
  },
  {
   "cell_type": "markdown",
   "id": "vocal-zealand",
   "metadata": {
    "ExecuteTime": {
     "end_time": "2021-01-28T19:02:45.206291Z",
     "start_time": "2021-01-28T19:02:45.203944Z"
    },
    "heading_collapsed": true
   },
   "source": [
    "## 4. Qual a casa mais cara ( casa com o maior valor de venda )?\n",
    "\n"
   ]
  },
  {
   "cell_type": "code",
   "execution_count": 32,
   "id": "cross-notification",
   "metadata": {
    "ExecuteTime": {
     "end_time": "2021-01-28T19:36:24.646305Z",
     "start_time": "2021-01-28T19:36:24.627797Z"
    },
    "hidden": true
   },
   "outputs": [
    {
     "data": {
      "text/html": [
       "<div>\n",
       "<style scoped>\n",
       "    .dataframe tbody tr th:only-of-type {\n",
       "        vertical-align: middle;\n",
       "    }\n",
       "\n",
       "    .dataframe tbody tr th {\n",
       "        vertical-align: top;\n",
       "    }\n",
       "\n",
       "    .dataframe thead th {\n",
       "        text-align: right;\n",
       "    }\n",
       "</style>\n",
       "<table border=\"1\" class=\"dataframe\">\n",
       "  <thead>\n",
       "    <tr style=\"text-align: right;\">\n",
       "      <th></th>\n",
       "      <th>price</th>\n",
       "      <th>id</th>\n",
       "    </tr>\n",
       "  </thead>\n",
       "  <tbody>\n",
       "    <tr>\n",
       "      <th>7252</th>\n",
       "      <td>7700000.0</td>\n",
       "      <td>6762700020</td>\n",
       "    </tr>\n",
       "    <tr>\n",
       "      <th>3914</th>\n",
       "      <td>7062500.0</td>\n",
       "      <td>9808700762</td>\n",
       "    </tr>\n",
       "    <tr>\n",
       "      <th>9254</th>\n",
       "      <td>6885000.0</td>\n",
       "      <td>9208900037</td>\n",
       "    </tr>\n",
       "    <tr>\n",
       "      <th>4411</th>\n",
       "      <td>5570000.0</td>\n",
       "      <td>2470100110</td>\n",
       "    </tr>\n",
       "    <tr>\n",
       "      <th>1448</th>\n",
       "      <td>5350000.0</td>\n",
       "      <td>8907500070</td>\n",
       "    </tr>\n",
       "    <tr>\n",
       "      <th>...</th>\n",
       "      <td>...</td>\n",
       "      <td>...</td>\n",
       "    </tr>\n",
       "    <tr>\n",
       "      <th>8274</th>\n",
       "      <td>82000.0</td>\n",
       "      <td>3883800011</td>\n",
       "    </tr>\n",
       "    <tr>\n",
       "      <th>16198</th>\n",
       "      <td>81000.0</td>\n",
       "      <td>3028200080</td>\n",
       "    </tr>\n",
       "    <tr>\n",
       "      <th>465</th>\n",
       "      <td>80000.0</td>\n",
       "      <td>8658300340</td>\n",
       "    </tr>\n",
       "    <tr>\n",
       "      <th>15293</th>\n",
       "      <td>78000.0</td>\n",
       "      <td>40000362</td>\n",
       "    </tr>\n",
       "    <tr>\n",
       "      <th>1149</th>\n",
       "      <td>75000.0</td>\n",
       "      <td>3421079032</td>\n",
       "    </tr>\n",
       "  </tbody>\n",
       "</table>\n",
       "<p>21613 rows × 2 columns</p>\n",
       "</div>"
      ],
      "text/plain": [
       "           price          id\n",
       "7252   7700000.0  6762700020\n",
       "3914   7062500.0  9808700762\n",
       "9254   6885000.0  9208900037\n",
       "4411   5570000.0  2470100110\n",
       "1448   5350000.0  8907500070\n",
       "...          ...         ...\n",
       "8274     82000.0  3883800011\n",
       "16198    81000.0  3028200080\n",
       "465      80000.0  8658300340\n",
       "15293    78000.0    40000362\n",
       "1149     75000.0  3421079032\n",
       "\n",
       "[21613 rows x 2 columns]"
      ]
     },
     "execution_count": 32,
     "metadata": {},
     "output_type": "execute_result"
    }
   ],
   "source": [
    "df[['price', 'id']].sort_values('price', ascending = False)\n",
    "\n",
    "#R: A casa mais cara custa 7700000 e possui o ID 6762700020"
   ]
  },
  {
   "cell_type": "markdown",
   "id": "retired-setup",
   "metadata": {
    "heading_collapsed": true
   },
   "source": [
    "## 5. Qual a casa com o maior número de quartos?\n",
    "\n"
   ]
  },
  {
   "cell_type": "code",
   "execution_count": 36,
   "id": "micro-hands",
   "metadata": {
    "ExecuteTime": {
     "end_time": "2021-01-28T19:40:09.126306Z",
     "start_time": "2021-01-28T19:40:09.071465Z"
    },
    "hidden": true
   },
   "outputs": [
    {
     "data": {
      "text/html": [
       "<div>\n",
       "<style scoped>\n",
       "    .dataframe tbody tr th:only-of-type {\n",
       "        vertical-align: middle;\n",
       "    }\n",
       "\n",
       "    .dataframe tbody tr th {\n",
       "        vertical-align: top;\n",
       "    }\n",
       "\n",
       "    .dataframe thead th {\n",
       "        text-align: right;\n",
       "    }\n",
       "</style>\n",
       "<table border=\"1\" class=\"dataframe\">\n",
       "  <thead>\n",
       "    <tr style=\"text-align: right;\">\n",
       "      <th></th>\n",
       "      <th>id</th>\n",
       "      <th>bedrooms</th>\n",
       "    </tr>\n",
       "  </thead>\n",
       "  <tbody>\n",
       "    <tr>\n",
       "      <th>15870</th>\n",
       "      <td>2402100895</td>\n",
       "      <td>33</td>\n",
       "    </tr>\n",
       "    <tr>\n",
       "      <th>8757</th>\n",
       "      <td>1773100755</td>\n",
       "      <td>11</td>\n",
       "    </tr>\n",
       "    <tr>\n",
       "      <th>15161</th>\n",
       "      <td>5566100170</td>\n",
       "      <td>10</td>\n",
       "    </tr>\n",
       "    <tr>\n",
       "      <th>13314</th>\n",
       "      <td>627300145</td>\n",
       "      <td>10</td>\n",
       "    </tr>\n",
       "    <tr>\n",
       "      <th>19254</th>\n",
       "      <td>8812401450</td>\n",
       "      <td>10</td>\n",
       "    </tr>\n",
       "    <tr>\n",
       "      <th>...</th>\n",
       "      <td>...</td>\n",
       "      <td>...</td>\n",
       "    </tr>\n",
       "    <tr>\n",
       "      <th>19452</th>\n",
       "      <td>3980300371</td>\n",
       "      <td>0</td>\n",
       "    </tr>\n",
       "    <tr>\n",
       "      <th>8484</th>\n",
       "      <td>2310060040</td>\n",
       "      <td>0</td>\n",
       "    </tr>\n",
       "    <tr>\n",
       "      <th>875</th>\n",
       "      <td>6306400140</td>\n",
       "      <td>0</td>\n",
       "    </tr>\n",
       "    <tr>\n",
       "      <th>8477</th>\n",
       "      <td>2569500210</td>\n",
       "      <td>0</td>\n",
       "    </tr>\n",
       "    <tr>\n",
       "      <th>9773</th>\n",
       "      <td>3374500520</td>\n",
       "      <td>0</td>\n",
       "    </tr>\n",
       "  </tbody>\n",
       "</table>\n",
       "<p>21613 rows × 2 columns</p>\n",
       "</div>"
      ],
      "text/plain": [
       "               id  bedrooms\n",
       "15870  2402100895        33\n",
       "8757   1773100755        11\n",
       "15161  5566100170        10\n",
       "13314   627300145        10\n",
       "19254  8812401450        10\n",
       "...           ...       ...\n",
       "19452  3980300371         0\n",
       "8484   2310060040         0\n",
       "875    6306400140         0\n",
       "8477   2569500210         0\n",
       "9773   3374500520         0\n",
       "\n",
       "[21613 rows x 2 columns]"
      ]
     },
     "execution_count": 36,
     "metadata": {},
     "output_type": "execute_result"
    }
   ],
   "source": [
    "df[['id','bedrooms']].sort_values('bedrooms', ascending = False)\n",
    "\n",
    "#A casa com mais quartos é a de ID 2402100895"
   ]
  },
  {
   "cell_type": "markdown",
   "id": "unlikely-ottawa",
   "metadata": {
    "heading_collapsed": true
   },
   "source": [
    "## 6. Qual a soma total de quartos do conjunto de dados?\n",
    "\n"
   ]
  },
  {
   "cell_type": "code",
   "execution_count": 42,
   "id": "ahead-picking",
   "metadata": {
    "ExecuteTime": {
     "end_time": "2021-01-28T19:42:45.150963Z",
     "start_time": "2021-01-28T19:42:45.137961Z"
    },
    "hidden": true
   },
   "outputs": [
    {
     "data": {
      "text/plain": [
       "bedrooms    72854\n",
       "dtype: int64"
      ]
     },
     "execution_count": 42,
     "metadata": {},
     "output_type": "execute_result"
    }
   ],
   "source": [
    "df[['bedrooms']].sum()\n",
    "\n",
    "# A soma total é de 72854 quartos "
   ]
  },
  {
   "cell_type": "markdown",
   "id": "medical-sunset",
   "metadata": {
    "ExecuteTime": {
     "end_time": "2021-01-28T19:03:17.522428Z",
     "start_time": "2021-01-28T19:03:17.518838Z"
    },
    "heading_collapsed": true
   },
   "source": [
    "## 7. Quantas casas possuem 2 banheiros?\n",
    "\n"
   ]
  },
  {
   "cell_type": "code",
   "execution_count": 53,
   "id": "patent-runner",
   "metadata": {
    "ExecuteTime": {
     "end_time": "2021-01-28T19:50:05.454856Z",
     "start_time": "2021-01-28T19:50:05.447593Z"
    },
    "hidden": true
   },
   "outputs": [
    {
     "data": {
      "text/plain": [
       "bathrooms    1930\n",
       "dtype: int64"
      ]
     },
     "execution_count": 53,
     "metadata": {},
     "output_type": "execute_result"
    }
   ],
   "source": [
    "(df[['bathrooms']] == 2).sum()\n",
    "\n",
    "#Um total de 1930 casas possuem 2 banheiros"
   ]
  },
  {
   "cell_type": "markdown",
   "id": "clinical-reducing",
   "metadata": {
    "ExecuteTime": {
     "end_time": "2021-01-28T19:03:19.622043Z",
     "start_time": "2021-01-28T19:03:19.619638Z"
    },
    "heading_collapsed": true
   },
   "source": [
    "## 8. Qual o preço médio de todas as casas no conjunto de dados?\n",
    "\n"
   ]
  },
  {
   "cell_type": "code",
   "execution_count": 54,
   "id": "supported-minute",
   "metadata": {
    "ExecuteTime": {
     "end_time": "2021-01-28T19:53:29.622370Z",
     "start_time": "2021-01-28T19:53:29.610073Z"
    },
    "hidden": true
   },
   "outputs": [
    {
     "data": {
      "text/plain": [
       "price    540088.141767\n",
       "dtype: float64"
      ]
     },
     "execution_count": 54,
     "metadata": {},
     "output_type": "execute_result"
    }
   ],
   "source": [
    "df[['price']].mean()\n",
    "\n",
    "# O preço médio é de 540088.14"
   ]
  },
  {
   "cell_type": "markdown",
   "id": "behavioral-causing",
   "metadata": {
    "ExecuteTime": {
     "end_time": "2021-01-28T19:03:23.230004Z",
     "start_time": "2021-01-28T19:03:23.227674Z"
    }
   },
   "source": [
    "## 9. Qual o preço médio de casas com 2 banheiros?\n",
    "\n"
   ]
  },
  {
   "cell_type": "code",
   "execution_count": 111,
   "id": "rough-singles",
   "metadata": {
    "ExecuteTime": {
     "end_time": "2021-01-28T20:39:50.475591Z",
     "start_time": "2021-01-28T20:39:50.467376Z"
    }
   },
   "outputs": [
    {
     "data": {
      "text/plain": [
       "457889.7186528497"
      ]
     },
     "execution_count": 111,
     "metadata": {},
     "output_type": "execute_result"
    }
   ],
   "source": [
    "a = df.loc[(df['price'] > 0) & (df['bathrooms'] == 2),:]\n",
    "\n",
    "a['price'].mean()\n",
    "\n",
    "#R: O preço médio de casos com 2 banheiros é de 457889.71"
   ]
  },
  {
   "cell_type": "markdown",
   "id": "noted-prince",
   "metadata": {
    "ExecuteTime": {
     "end_time": "2021-01-28T19:03:25.192426Z",
     "start_time": "2021-01-28T19:03:25.190188Z"
    },
    "heading_collapsed": true
   },
   "source": [
    "## 10. Qual o preço mínimo entre as casas com 3 quartos?\n",
    "\n"
   ]
  },
  {
   "cell_type": "code",
   "execution_count": 121,
   "id": "increasing-wells",
   "metadata": {
    "ExecuteTime": {
     "end_time": "2021-01-28T22:35:38.765168Z",
     "start_time": "2021-01-28T22:35:38.755144Z"
    },
    "hidden": true
   },
   "outputs": [
    {
     "data": {
      "text/plain": [
       "82000.0"
      ]
     },
     "execution_count": 121,
     "metadata": {},
     "output_type": "execute_result"
    }
   ],
   "source": [
    "a = df.loc[(df['price'] > 0) & (df['bedrooms'] == 3), : ]\n",
    "\n",
    "a['price'].min()\n",
    "\n",
    "#R: O prelo mínimo é de 82000"
   ]
  },
  {
   "cell_type": "markdown",
   "id": "bronze-mills",
   "metadata": {
    "ExecuteTime": {
     "end_time": "2021-01-28T19:03:27.238088Z",
     "start_time": "2021-01-28T19:03:27.235782Z"
    },
    "heading_collapsed": true
   },
   "source": [
    "## 11. Quantas casas possuem mais de 300 metros quadrados na sala de estar?\n",
    "\n"
   ]
  },
  {
   "cell_type": "code",
   "execution_count": 140,
   "id": "disciplinary-savage",
   "metadata": {
    "ExecuteTime": {
     "end_time": "2021-01-28T22:41:05.361899Z",
     "start_time": "2021-01-28T22:41:05.354036Z"
    },
    "hidden": true
   },
   "outputs": [
    {
     "data": {
      "text/plain": [
       "21612"
      ]
     },
     "execution_count": 140,
     "metadata": {},
     "output_type": "execute_result"
    }
   ],
   "source": [
    "(df['sqft_living'] > 300).sum()\n",
    "\n",
    "# 21612 casas possuem mais de 300 m²"
   ]
  },
  {
   "cell_type": "markdown",
   "id": "finished-convert",
   "metadata": {
    "ExecuteTime": {
     "end_time": "2021-01-28T19:03:29.527917Z",
     "start_time": "2021-01-28T19:03:29.525498Z"
    },
    "heading_collapsed": true
   },
   "source": [
    "## 12. Quantas casas tem mais de 2 andares?\n",
    "\n"
   ]
  },
  {
   "cell_type": "code",
   "execution_count": 141,
   "id": "matched-amplifier",
   "metadata": {
    "ExecuteTime": {
     "end_time": "2021-01-28T22:42:48.063451Z",
     "start_time": "2021-01-28T22:42:48.052063Z"
    },
    "hidden": true
   },
   "outputs": [
    {
     "data": {
      "text/plain": [
       "782"
      ]
     },
     "execution_count": 141,
     "metadata": {},
     "output_type": "execute_result"
    }
   ],
   "source": [
    "(df['floors'] > 2).sum()\n",
    "\n",
    "#R: 782 Casas possuem mais de 2 andares"
   ]
  },
  {
   "cell_type": "markdown",
   "id": "declared-plain",
   "metadata": {
    "ExecuteTime": {
     "end_time": "2021-01-28T19:03:31.370614Z",
     "start_time": "2021-01-28T19:03:31.368278Z"
    },
    "heading_collapsed": true
   },
   "source": [
    "## 13. Quantas casas tem vista para o mar?\n",
    "\n"
   ]
  },
  {
   "cell_type": "code",
   "execution_count": 142,
   "id": "initial-polyester",
   "metadata": {
    "ExecuteTime": {
     "end_time": "2021-01-28T22:50:37.953637Z",
     "start_time": "2021-01-28T22:50:37.943585Z"
    },
    "hidden": true
   },
   "outputs": [
    {
     "data": {
      "text/plain": [
       "163"
      ]
     },
     "execution_count": 142,
     "metadata": {},
     "output_type": "execute_result"
    }
   ],
   "source": [
    "df['waterfront'].sum()\n",
    "\n",
    "#R: 163 casas possuem mais de 2 andares"
   ]
  },
  {
   "cell_type": "markdown",
   "id": "binary-wilderness",
   "metadata": {
    "ExecuteTime": {
     "end_time": "2021-01-28T19:03:33.688700Z",
     "start_time": "2021-01-28T19:03:33.684657Z"
    },
    "heading_collapsed": true
   },
   "source": [
    "## 14. Das casas com vista para o mar, quantas tem 3 quartos?\n"
   ]
  },
  {
   "cell_type": "code",
   "execution_count": 152,
   "id": "announced-filename",
   "metadata": {
    "ExecuteTime": {
     "end_time": "2021-01-28T22:58:38.857487Z",
     "start_time": "2021-01-28T22:58:38.826218Z"
    },
    "hidden": true
   },
   "outputs": [
    {
     "data": {
      "text/plain": [
       "64"
      ]
     },
     "execution_count": 152,
     "metadata": {},
     "output_type": "execute_result"
    }
   ],
   "source": [
    "a = df.loc[(df['waterfront'] > 0) & (df['bedrooms'] == 3)]\n",
    "           \n",
    "a['waterfront'].sum()\n",
    "\n",
    "#R: das 163 casas com vista para o mar, 64 possuem 3 quartos"
   ]
  },
  {
   "cell_type": "markdown",
   "id": "interpreted-empty",
   "metadata": {
    "ExecuteTime": {
     "end_time": "2021-01-28T19:03:35.343460Z",
     "start_time": "2021-01-28T19:03:35.340498Z"
    }
   },
   "source": [
    "## 15. Das casas com mais de 300 metros quadrados de sala de estar, quantas tem mais de 2 banheiros?"
   ]
  },
  {
   "cell_type": "code",
   "execution_count": 165,
   "id": "similar-easter",
   "metadata": {
    "ExecuteTime": {
     "end_time": "2021-01-28T23:06:55.495402Z",
     "start_time": "2021-01-28T23:06:55.486635Z"
    }
   },
   "outputs": [
    {
     "data": {
      "text/plain": [
       "(11242,)"
      ]
     },
     "execution_count": 165,
     "metadata": {},
     "output_type": "execute_result"
    }
   ],
   "source": [
    "a = df.loc[(df['sqft_living'] > 300) & (df['bathrooms'] > 2)]\n",
    "\n",
    "a['bathrooms'].shape\n"
   ]
  },
  {
   "cell_type": "code",
   "execution_count": null,
   "id": "interstate-diversity",
   "metadata": {},
   "outputs": [],
   "source": []
  }
 ],
 "metadata": {
  "kernelspec": {
   "display_name": "Python 3",
   "language": "python",
   "name": "python3"
  },
  "language_info": {
   "codemirror_mode": {
    "name": "ipython",
    "version": 3
   },
   "file_extension": ".py",
   "mimetype": "text/x-python",
   "name": "python",
   "nbconvert_exporter": "python",
   "pygments_lexer": "ipython3",
   "version": "3.8.0"
  },
  "varInspector": {
   "cols": {
    "lenName": 16,
    "lenType": 16,
    "lenVar": 40
   },
   "kernels_config": {
    "python": {
     "delete_cmd_postfix": "",
     "delete_cmd_prefix": "del ",
     "library": "var_list.py",
     "varRefreshCmd": "print(var_dic_list())"
    },
    "r": {
     "delete_cmd_postfix": ") ",
     "delete_cmd_prefix": "rm(",
     "library": "var_list.r",
     "varRefreshCmd": "cat(var_dic_list()) "
    }
   },
   "types_to_exclude": [
    "module",
    "function",
    "builtin_function_or_method",
    "instance",
    "_Feature"
   ],
   "window_display": false
  }
 },
 "nbformat": 4,
 "nbformat_minor": 5
}
